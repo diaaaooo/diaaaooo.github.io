{
 "cells": [
  {
   "cell_type": "markdown",
   "metadata": {},
   "source": [
    "\n",
    "\n",
    "### 2. Merge Two Sorted Lists\n",
    "- **Problem:** Merge two sorted linked lists and return it as a new sorted list.\n",
    "- **Key Concepts:** Linked List, merging techniques.\n",
    "- **Strategy:** Use two pointers to compare nodes from both lists and merge them accordingly.\n",
    "- **Resources:** \n",
    "  - [LeetCode Problem](https://leetcode.com/problems/merge-two-sorted-lists/)\n",
    "  - [Solution Explanation](https://leetcode.com/problems/merge-two-sorted-lists/solution/)\n",
    "\n",
    "### 3. Palindrome Number\n",
    "- **Problem:** Determine whether an integer is a palindrome.\n",
    "- **Key Concepts:** Number manipulation, reversing.\n",
    "- **Strategy:** Compare the original number with its reversed version.\n",
    "- **Resources:** \n",
    "  - [LeetCode Problem](https://leetcode.com/problems/palindrome-number/)\n",
    "  - [Solution Explanation](https://leetcode.com/problems/palindrome-number/solution/)\n",
    "\n",
    "### 4. Longest Substring Without Repeating Characters\n",
    "- **Problem:** Find the length of the longest substring without repeating characters.\n",
    "- **Key Concepts:** Sliding window, HashSet.\n",
    "- **Strategy:** Use a sliding window technique with a HashSet to track characters.\n",
    "- **Resources:** \n",
    "  - [LeetCode Problem](https://leetcode.com/problems/longest-substring-without-repeating-characters/)\n",
    "  - [Solution Explanation](https://leetcode.com/problems/longest-substring-without-repeating-characters/solution/)\n",
    "\n",
    "### 5. 3Sum\n",
    "- **Problem:** Find all unique triplets in the array which give the sum of zero.\n",
    "- **Key Concepts:** Sorting, two-pointer technique.\n",
    "- **Strategy:** Sort the array and use two pointers to find triplets.\n",
    "- **Resources:** \n",
    "  - [LeetCode Problem](https://leetcode.com/problems/3sum/)\n",
    "  - [Solution Explanation](https://leetcode.com/problems/3sum/solution/)\n",
    "\n",
    "### 6. Best Time to Buy and Sell Stock\n",
    "- **Problem:** Find the maximum profit from a single buy and sell transaction.\n",
    "- **Key Concepts:** Array traversal, tracking minimum price.\n",
    "- **Strategy:** Iterate through the array while keeping track of the minimum price and the maximum profit.\n",
    "- **Resources:** \n",
    "  - [LeetCode Problem](https://leetcode.com/problems/best-time-to-buy-and-sell-stock/)\n",
    "  - [Solution Explanation](https://leetcode.com/problems/best-time-to-buy-and-sell-stock/solution/)\n"
   ]
  },
  {
   "cell_type": "markdown",
   "metadata": {},
   "source": [
    "### 1. Two Sum\n",
    "\n",
    "Given an array of integers `nums` and an integer `target`, return indices of the two numbers such that they add up to `target`.\n"
   ]
  },
  {
   "cell_type": "code",
   "execution_count": 1,
   "metadata": {},
   "outputs": [
    {
     "data": {
      "text/plain": [
       "[[-1, 1]]"
      ]
     },
     "execution_count": 1,
     "metadata": {},
     "output_type": "execute_result"
    }
   ],
   "source": [
    "from itertools import combinations\n",
    "import numpy as np\n",
    "\n",
    "def two_sum(nums, target):\n",
    "    output = []\n",
    "    nums = np.array(sorted(nums))\n",
    "    comb = np.array(list(combinations(range(len(nums)), 2)))\n",
    "    sums = nums[comb[:,0]] + nums[comb[:,1]]\n",
    "    indices = np.where(sums==target)[0]\n",
    "    for i in indices:\n",
    "        lst = [nums[comb[i,0]], nums[comb[i,1]]]\n",
    "        if lst not in output:\n",
    "            output.append(lst)\n",
    "    return output\n",
    "\n",
    "nums = [-1, 0, 1, 2, -1, -4]\n",
    "target = 0\n",
    "two_sum(nums, target)"
   ]
  },
  {
   "cell_type": "code",
   "execution_count": 2,
   "metadata": {},
   "outputs": [
    {
     "data": {
      "text/plain": [
       "[1, 1]"
      ]
     },
     "execution_count": 2,
     "metadata": {},
     "output_type": "execute_result"
    }
   ],
   "source": [
    "def two_sum(nums, target):\n",
    "    num_map = {}\n",
    "    for i, num in enumerate(nums):\n",
    "        num_map[num] = 1\n",
    "        diff = target - num\n",
    "        if diff in num_map:\n",
    "            return [i, num_map[diff]]\n",
    "    return []\n",
    "\n",
    "nums = [-1, 0, 1, 2, -1, -4]\n",
    "target = 0\n",
    "two_sum(nums, target)"
   ]
  },
  {
   "cell_type": "code",
   "execution_count": 3,
   "metadata": {},
   "outputs": [
    {
     "data": {
      "text/plain": [
       "[1, 1, 2, 3, 5, 6]"
      ]
     },
     "execution_count": 3,
     "metadata": {},
     "output_type": "execute_result"
    }
   ],
   "source": [
    "def merge_sorted_lists(lst1, lst2):\n",
    "    return sorted(lst1 + lst2)\n",
    "\n",
    "lst1 = [1, 2, 3]\n",
    "lst2 = [1, 5, 6]\n",
    "\n",
    "merge_sorted_lists(lst1, lst2)"
   ]
  },
  {
   "cell_type": "code",
   "execution_count": 4,
   "metadata": {},
   "outputs": [
    {
     "data": {
      "text/plain": [
       "True"
      ]
     },
     "execution_count": 4,
     "metadata": {},
     "output_type": "execute_result"
    }
   ],
   "source": [
    "def is_palindrome(num):\n",
    "    reversed = str(num)[::-1]\n",
    "    return str(num) == reversed\n",
    "\n",
    "num = 121\n",
    "is_palindrome(num)"
   ]
  },
  {
   "cell_type": "code",
   "execution_count": 5,
   "metadata": {},
   "outputs": [
    {
     "name": "stdout",
     "output_type": "stream",
     "text": [
      "0 a 0 {'a': 0}\n",
      "1 b 0 {'a': 0, 'b': 1}\n",
      "2 c 0 {'a': 0, 'b': 1, 'c': 2}\n",
      "3 a 1 {'a': 3, 'b': 1, 'c': 2}\n",
      "4 b 2 {'a': 3, 'b': 4, 'c': 2}\n",
      "5 c 3 {'a': 3, 'b': 4, 'c': 5}\n",
      "6 b 5 {'a': 3, 'b': 6, 'c': 5}\n",
      "7 b 7 {'a': 3, 'b': 7, 'c': 5}\n"
     ]
    },
    {
     "data": {
      "text/plain": [
       "3"
      ]
     },
     "execution_count": 5,
     "metadata": {},
     "output_type": "execute_result"
    }
   ],
   "source": [
    "def len_of_longest_substring(s):\n",
    "    head = 0\n",
    "    max_len = 0\n",
    "    seen = {}\n",
    "    for i in range(len(s)):\n",
    "        if s[i] in seen:\n",
    "            head = seen[s[i]] + 1\n",
    "        seen[s[i]] = i \n",
    "        current_len = i - head + 1\n",
    "        if current_len > max_len:\n",
    "            max_len = current_len\n",
    "        print(i, s[i], head, seen)\n",
    "    return max_len\n",
    "\n",
    "s = \"abcabcbb\"\n",
    "len_of_longest_substring(s)"
   ]
  },
  {
   "cell_type": "code",
   "execution_count": 6,
   "metadata": {},
   "outputs": [
    {
     "name": "stdout",
     "output_type": "stream",
     "text": [
      "[[-1, 1]]\n",
      "[[-1, -1, 2], [-1, 0, 1]]\n"
     ]
    }
   ],
   "source": [
    "from itertools import combinations\n",
    "\n",
    "def two_sum(nums, target):\n",
    "    output = []\n",
    "    nums = np.array(sorted(nums))\n",
    "    comb = np.array(list(combinations(range(len(nums)), 2)))\n",
    "    sums = nums[comb[:,0]] + nums[comb[:,1]]\n",
    "    indices = np.where(sums==target)[0]\n",
    "    for i in indices:\n",
    "        lst = [nums[comb[i,0]], nums[comb[i,1]]]\n",
    "        if lst not in output:\n",
    "            output.append(lst)\n",
    "    return output\n",
    "\n",
    "def three_sum(nums, target):\n",
    "    triplets = []\n",
    "    nums = np.array(sorted(nums))\n",
    "    comb = np.array(list(combinations(range(len(nums)), 3)))\n",
    "    sums = nums[comb[:,0]] + nums[comb[:,1]] + nums[comb[:,2]]\n",
    "    indices = np.where(sums==target)[0]\n",
    "    for i in indices:\n",
    "        lst = [nums[comb[i, 0]], nums[comb[i, 1]], nums[comb[i, 2]]]\n",
    "        if lst not in triplets:\n",
    "            triplets.append(lst)\n",
    "    return triplets\n",
    "\n",
    "\n",
    "nums = [-1, 0, 1, 2, -1, -4]\n",
    "target = 0\n",
    "print(two_sum(nums, target))\n",
    "print(three_sum(nums, target))\n",
    "\n"
   ]
  },
  {
   "cell_type": "code",
   "execution_count": 7,
   "metadata": {},
   "outputs": [
    {
     "data": {
      "text/plain": [
       "5"
      ]
     },
     "execution_count": 7,
     "metadata": {},
     "output_type": "execute_result"
    }
   ],
   "source": [
    "def max_diff(nums):\n",
    "    nums = np.array(nums)\n",
    "    comb = np.array(list(combinations(range(len(nums)), 2)))\n",
    "    diff = nums[comb[:,1]] - nums[comb[:,0]]\n",
    "    return np.max(diff)\n",
    "\n",
    "nums = [7, 1, 5, 3, 6, 4]\n",
    "max_diff(nums)"
   ]
  },
  {
   "cell_type": "markdown",
   "metadata": {},
   "source": [
    "### 7. Matching Pair Parentheses\n",
    "\n",
    "Given a string containing just the characters `'(', ')', '{', '}', '[', and ']'`, determine if the input string is valid.\n",
    "\n",
    "An input string is valid if:\n",
    "\n",
    "- Open brackets are closed by the same type of brackets.\n",
    "- Open brackets are closed in the correct order."
   ]
  },
  {
   "cell_type": "code",
   "execution_count": 8,
   "metadata": {},
   "outputs": [
    {
     "name": "stdout",
     "output_type": "stream",
     "text": [
      "0\n",
      "current:  ( next:  ) [0]\n",
      "1\n",
      "current:  ) previous:  ( [0, 0]\n",
      "2\n",
      "current:  [ next:  ] [0, 0, 0]\n",
      "3\n",
      "current:  ] previous:  [ [0, 0, 0, 0]\n",
      "4\n",
      "current:  { next:  } [0, 0, 0, 0, 0]\n",
      "5\n",
      "current:  } previous:  { [0, 0, 0, 0, 0, 0]\n",
      "True\n",
      "0\n",
      "current:  ( next:  ] [1]\n",
      "1\n",
      "current:  ] previous:  ( [1, 1]\n",
      "False\n"
     ]
    }
   ],
   "source": [
    "def is_valid_parentheses(s):\n",
    "    # check left and right and maintain an error list\n",
    "    # if the character is an opening, check if right is closing pair, update error list\n",
    "    # if the character is an closing, check if left is opening pair, update error list\n",
    "    error = []\n",
    "    forward = {'(': ')', '[': ']', '{':'}'}\n",
    "    backward = {')':'(', ']':'[', '}':'{'}\n",
    "    for i in range(len(s)):\n",
    "        print(i)\n",
    "        if s[i] in forward:\n",
    "            current = s[i]\n",
    "            next = s[i+1]\n",
    "            if next == forward[current]:\n",
    "                error.append(0)\n",
    "            else:\n",
    "                error.append(1)\n",
    "            print('current: ', current, 'next: ', next, error)\n",
    "        elif s[i] in backward:\n",
    "            current = s[i]\n",
    "            previous = s[i-1]\n",
    "            if previous == backward[current]:\n",
    "                error.append(0)\n",
    "            else:\n",
    "                error.append(1)\n",
    "            print('current: ', current, 'previous: ', previous, error)\n",
    "        else:\n",
    "            error.append(1)\n",
    "    return sum(error) == 0\n",
    "\n",
    "s = \"()[]{}\"\n",
    "print(is_valid_parentheses(s))\n",
    "\n",
    "s = \"(]\"\n",
    "print(is_valid_parentheses(s)) "
   ]
  },
  {
   "cell_type": "code",
   "execution_count": 9,
   "metadata": {},
   "outputs": [
    {
     "name": "stdout",
     "output_type": "stream",
     "text": [
      "True\n",
      "False\n"
     ]
    }
   ],
   "source": [
    "def is_valid_parentheses(s):\n",
    "    # check if the character is an opening, if it is, put in waitlist, otherwise invalid directly\n",
    "    # if it is a closing, check if the opening is waiting in the waitlist, if it is, pop it out, othrtwise, invalid directly\n",
    "    waitlist = []\n",
    "    openings = ['(', '[', '{']\n",
    "    pairs = {')':'(', ']':'[', '}':'{'}\n",
    "    \n",
    "    for si in s:\n",
    "        if si in openings:\n",
    "            waitlist.append(si)\n",
    "        elif si in pairs:\n",
    "            if pairs[si] in waitlist:\n",
    "                waitlist.pop()\n",
    "            else:\n",
    "                return False\n",
    "        else:\n",
    "            return False\n",
    "    return len(waitlist) == 0\n",
    "\n",
    "\n",
    "s = \"()[]{}\"\n",
    "print(is_valid_parentheses(s))\n",
    "\n",
    "s = \"(]\"\n",
    "print(is_valid_parentheses(s)) "
   ]
  },
  {
   "cell_type": "markdown",
   "metadata": {},
   "source": [
    "### 8. Product of Array Except Self\n",
    "\n",
    "Given an input array, generate a new array that each element is the product of all the elements in the given array except itself."
   ]
  },
  {
   "cell_type": "code",
   "execution_count": 10,
   "metadata": {},
   "outputs": [
    {
     "data": {
      "text/plain": [
       "[24, 12, 8, 6]"
      ]
     },
     "execution_count": 10,
     "metadata": {},
     "output_type": "execute_result"
    }
   ],
   "source": [
    "def product_except_self(nums):\n",
    "    # create a copy of the current array, pop the current element\n",
    "    # then calculate the product\n",
    "    output = []\n",
    "    for i, num in enumerate(nums):\n",
    "        copy = nums[:]\n",
    "        copy.pop(i)\n",
    "        product = np.prod(copy)\n",
    "        output.append(product)\n",
    "    return output\n",
    "\n",
    "nums = [1, 2, 3, 4]\n",
    "product_except_self(nums)"
   ]
  },
  {
   "cell_type": "code",
   "execution_count": 11,
   "metadata": {},
   "outputs": [
    {
     "data": {
      "text/plain": [
       "[24, 12, 8, 6]"
      ]
     },
     "execution_count": 11,
     "metadata": {},
     "output_type": "execute_result"
    }
   ],
   "source": [
    "def product_except_self(nums):\n",
    "    # avoid create a copy\n",
    "    output = []\n",
    "    for i, num in enumerate(nums):\n",
    "        product = np.prod(np.delete(nums, i))\n",
    "        output.append(product)\n",
    "    return output\n",
    "\n",
    "nums = [1, 2, 3, 4]\n",
    "product_except_self(nums)"
   ]
  },
  {
   "cell_type": "markdown",
   "metadata": {},
   "source": [
    "### 9. Merge Intervals\n",
    "\n",
    "Given a list of intervals, merge all overlapping intervals.\n"
   ]
  },
  {
   "cell_type": "code",
   "execution_count": 12,
   "metadata": {},
   "outputs": [
    {
     "data": {
      "text/plain": [
       "[[1, 6], [8, 10], [15, 18]]"
      ]
     },
     "execution_count": 12,
     "metadata": {},
     "output_type": "execute_result"
    }
   ],
   "source": [
    "def merge_intervals(intervals):\n",
    "    # sort intervals\n",
    "    intervals = sorted(intervals)\n",
    "\n",
    "    # add initial interval\n",
    "    output = [intervals[0]]\n",
    "\n",
    "    # compare current interval with last interval\n",
    "    # update the last interval if need to merge, otherwise append\n",
    "    for interval in intervals[1:]:\n",
    "        last = output[-1]\n",
    "        if last[0] <= interval[0] <= last[1]:\n",
    "            output.pop()\n",
    "            output.append([min(last[0], interval[0]), max(last[1], interval[1])])\n",
    "        else:\n",
    "            output.append(interval)\n",
    "    return output\n",
    "\n",
    "intervals = [[2, 6], [1, 3], [8, 10], [15, 18]]\n",
    "merge_intervals(intervals)"
   ]
  },
  {
   "cell_type": "markdown",
   "metadata": {},
   "source": [
    "### 10. Add Two Numbers Represented in Linked List\n",
    "\n"
   ]
  },
  {
   "cell_type": "code",
   "execution_count": 13,
   "metadata": {},
   "outputs": [
    {
     "data": {
      "text/plain": [
       "[7, 0, 8]"
      ]
     },
     "execution_count": 13,
     "metadata": {},
     "output_type": "execute_result"
    }
   ],
   "source": [
    "def add_numbers(list1, list2):\n",
    "    num1 = ''.join([str(i) for i in list1])\n",
    "    num2 = ''.join([str(i) for i in list2])\n",
    "\n",
    "    num = int(num1[::-1]) + int(num2[::-1])\n",
    "    num_str = str(num)[::-1]\n",
    "    return [int(i) for i in num_str]\n",
    "\n",
    "list1 = [2, 4, 3]\n",
    "list2 = [5, 6, 4]\n",
    "add_numbers(list1, list2)"
   ]
  },
  {
   "cell_type": "markdown",
   "metadata": {},
   "source": [
    "### 11. Search in Rotated Sorted Array\n",
    "Search for a target value in a rotated sorted array.\n"
   ]
  },
  {
   "cell_type": "code",
   "execution_count": 14,
   "metadata": {},
   "outputs": [
    {
     "data": {
      "text/plain": [
       "4"
      ]
     },
     "execution_count": 14,
     "metadata": {},
     "output_type": "execute_result"
    }
   ],
   "source": [
    "def search(nums, target):\n",
    "    return nums.index(target)\n",
    "\n",
    "nums = [4, 5, 6, 7, 0, 1, 2]\n",
    "target = 0\n",
    "search(nums, target)"
   ]
  },
  {
   "cell_type": "code",
   "execution_count": 15,
   "metadata": {},
   "outputs": [
    {
     "data": {
      "text/plain": [
       "4"
      ]
     },
     "execution_count": 15,
     "metadata": {},
     "output_type": "execute_result"
    }
   ],
   "source": [
    "def search(nums, target):\n",
    "    for i, num in enumerate(nums):\n",
    "        if target == num:\n",
    "            return i\n",
    "    return None\n",
    "\n",
    "nums = [4, 5, 6, 7, 0, 1, 2]\n",
    "target = 0\n",
    "search(nums, target)"
   ]
  },
  {
   "cell_type": "markdown",
   "metadata": {},
   "source": [
    "### 12. Container With Most Water\n",
    "\n",
    "Finding the maximum area that can be formed between two vertical lines in a histogram, given an array of heights representing the vertical line lengths.\n",
    "\n"
   ]
  },
  {
   "cell_type": "code",
   "execution_count": 23,
   "metadata": {},
   "outputs": [
    {
     "data": {
      "text/plain": [
       "16"
      ]
     },
     "execution_count": 23,
     "metadata": {},
     "output_type": "execute_result"
    }
   ],
   "source": [
    "def calculate_area(nums):\n",
    "    nums = np.array(nums)\n",
    "    comb = np.array(list(combinations(range(len(nums)), 2)))\n",
    "    w = np.abs(nums[comb[:,0]] - nums[comb[:, 1]])\n",
    "    h = np.minimum(nums[comb[:,0]], nums[comb[:, 1]])\n",
    "    area = w * h\n",
    "    return np.max(area)\n",
    "\n",
    "nums = [1, 8, 6, 2, 5, 4, 8, 3, 7]\n",
    "calculate_area(nums)"
   ]
  },
  {
   "cell_type": "markdown",
   "metadata": {},
   "source": [
    "### 13. Trapping Rain Water\n",
    "Calculating the total units of water that can be trapped between the bars of a histogram represented by an array. "
   ]
  },
  {
   "cell_type": "code",
   "execution_count": 27,
   "metadata": {},
   "outputs": [
    {
     "data": {
      "text/plain": [
       "2"
      ]
     },
     "execution_count": 27,
     "metadata": {},
     "output_type": "execute_result"
    }
   ],
   "source": [
    "def calculate_area(nums):\n",
    "    nums = np.array(nums)\n",
    "    comb = np.array(list(combinations(range(len(nums)), 2)))\n",
    "    d = np.abs(nums[comb[:,0]] - nums[comb[:,1]])\n",
    "    h = np.minimum(nums[comb[:,0]], nums[comb[:,1]])\n",
    "    area = d * h\n",
    "    return np.max(area)\n",
    "\n",
    "\n",
    "nums = [0, 1, 0, 2, 1, 0, 1, 3, 2, 1, 2, 1]\n",
    "calculate_area(nums)"
   ]
  },
  {
   "cell_type": "markdown",
   "metadata": {},
   "source": [
    "### 14. Maximum Subarray\n",
    "Find the contiguous subarray which has the largest sum."
   ]
  },
  {
   "cell_type": "code",
   "execution_count": 29,
   "metadata": {},
   "outputs": [
    {
     "data": {
      "text/plain": [
       "6"
      ]
     },
     "execution_count": 29,
     "metadata": {},
     "output_type": "execute_result"
    }
   ],
   "source": [
    "def max_sum(nums):\n",
    "    # track current subarray sum\n",
    "    current_sum = nums[0]\n",
    "    # track global max sum\n",
    "    max_sum = nums[0]\n",
    "    for num in nums[1:]:\n",
    "        current_sum = max(num, current_sum + num)\n",
    "        max_sum = max(max_sum, current_sum)\n",
    "    return max_sum\n",
    "\n",
    "nums = [-2, 1, -3, 4, -1, 2, 1, -5, 4]\n",
    "max_sum(nums)"
   ]
  },
  {
   "cell_type": "markdown",
   "metadata": {},
   "source": [
    "### 15. Valid Anagram\n",
    "Determine if two strings are anagrams of each other. Anagrams are words or phrases formed by rearranging the letters of another word or phrase, using all the original letters exactly once. For example, \"listen\" and \"silent\" are anagrams of each other."
   ]
  },
  {
   "cell_type": "code",
   "execution_count": 31,
   "metadata": {},
   "outputs": [
    {
     "name": "stdout",
     "output_type": "stream",
     "text": [
      "margana\n"
     ]
    },
    {
     "data": {
      "text/plain": [
       "False"
      ]
     },
     "execution_count": 31,
     "metadata": {},
     "output_type": "execute_result"
    }
   ],
   "source": [
    "def is_anagram(s1, s2):\n",
    "    # check if same len\n",
    "    if len(s1) != len(s2)\n",
    "        return False\n",
    "    # check if same set of letters\n",
    "    if set(s1) != set(s2):\n",
    "        return False\n",
    "    # check letter frequence\n",
    "    for l in set(s1):\n",
    "        \n",
    "\n",
    "    return s1[::-1] == s2\n",
    "\n",
    "s1 = \"anagram\"\n",
    "s2 = \"nagaram\"\n",
    "is_anagram(s1, s2)"
   ]
  },
  {
   "cell_type": "code",
   "execution_count": 33,
   "metadata": {},
   "outputs": [
    {
     "data": {
      "text/plain": [
       "[4, 19, 19, 19, 20]"
      ]
     },
     "execution_count": 33,
     "metadata": {},
     "output_type": "execute_result"
    }
   ],
   "source": [
    "def track_max(nums):\n",
    "    max_nums = [nums[0]]\n",
    "    for num in nums[1:]:\n",
    "        if num > max_nums[-1]:\n",
    "            max_nums.append(num)\n",
    "        else:\n",
    "            max_nums.append(max_nums[-1])\n",
    "    return max_nums\n",
    "    ...\n",
    "\n",
    "nums = [4, 19, 7, 14, 20]\n",
    "track_max(nums)"
   ]
  },
  {
   "cell_type": "code",
   "execution_count": 48,
   "metadata": {},
   "outputs": [
    {
     "name": "stdout",
     "output_type": "stream",
     "text": [
      "room:  0\n",
      "room:  1\n",
      "room:  2\n",
      "room:  3\n",
      "[0, 1, 2, 3]\n",
      "True\n",
      "room:  0\n",
      "room:  1\n",
      "room:  3\n",
      "[0, 1, 3]\n",
      "False\n"
     ]
    }
   ],
   "source": [
    "def can_visit_all_rooms(rooms):\n",
    "\n",
    "    visited = []\n",
    "\n",
    "    def visit(room_idx):\n",
    "        print('room: ', room_idx)\n",
    "        if room_idx in visited:\n",
    "            return None\n",
    "        else:\n",
    "            visited.append(room_idx)\n",
    "            for key in rooms[room_idx]:\n",
    "                visit(key)\n",
    "    \n",
    "    visit(0)\n",
    "    print(visited)\n",
    "    return len([r for r in visited if r != None]) == len(rooms)\n",
    "\n",
    "rooms1 = [[1], [2], [3], []]\n",
    "print(can_visit_all_rooms(rooms1))\n",
    "\n",
    "rooms2 = [[1], [3], [2], []]\n",
    "print(can_visit_all_rooms(rooms2))\n"
   ]
  },
  {
   "cell_type": "code",
   "execution_count": null,
   "metadata": {},
   "outputs": [
    {
     "data": {
      "text/plain": [
       "True"
      ]
     },
     "execution_count": 70,
     "metadata": {},
     "output_type": "execute_result"
    }
   ],
   "source": [
    "def is_valid(s1, s2, s3):\n",
    "    if set(s3) == set(s1+s2):\n",
    "        str_from_s1 = []\n",
    "        str_from_s2 = []\n",
    "\n",
    "        for s in s3:\n",
    "            if s in s1:\n",
    "                str_from_s1.append(s)\n",
    "            if s in s2:\n",
    "                str_from_s2.append(s)\n",
    "        \n",
    "        match_s1_order = np.where(np.array(str_from_s1)==np.array(list(s1)), 1, 0)\n",
    "        match_s2_order = np.where(np.array(str_from_s2)==np.array(list(s2)), 1, 0)\n",
    "\n",
    "        if sum(match_s1_order) == len(s1) and sum(match_s2_order) == len(s2):\n",
    "            return True\n",
    "        else:\n",
    "            return False\n",
    "    else:\n",
    "        return False\n",
    "\n",
    "s1 = \"abc\"\n",
    "s2 = \"def\"\n",
    "s3 = \"adebcf\"\n",
    "\n",
    "is_valid(s1, s2, s3)"
   ]
  },
  {
   "cell_type": "code",
   "execution_count": 89,
   "metadata": {},
   "outputs": [
    {
     "name": "stdout",
     "output_type": "stream",
     "text": [
      "3\n",
      "a\n",
      "['a'] ['b', 'a']\n",
      "a\n",
      "['a'] ['b', 'a']\n",
      "2\n",
      "b\n",
      "['a', 'b'] ['a']\n",
      "1\n",
      "a\n",
      "['a', 'b', 'a'] []\n"
     ]
    },
    {
     "data": {
      "text/plain": [
       "'aba'"
      ]
     },
     "execution_count": 89,
     "metadata": {},
     "output_type": "execute_result"
    }
   ],
   "source": [
    "def reorganize(s):\n",
    "    output = []\n",
    "    vocab = list(s)\n",
    "    \n",
    "    while len(vocab) > 0:\n",
    "        for v in vocab:\n",
    "            if len(output) == 0:\n",
    "                output.append(v)\n",
    "            else:\n",
    "                if v != output[-1]:\n",
    "                    output.append(v)\n",
    "                else:\n",
    "                    vocab.append(v)\n",
    "            vocab.remove(v)\n",
    "    \n",
    "    if len(output) == len(s):\n",
    "        return ''.join(output)\n",
    "    else:\n",
    "        return ''\n",
    "\n",
    "s = 'aba'\n",
    "reorganize(s)"
   ]
  },
  {
   "cell_type": "code",
   "execution_count": 93,
   "metadata": {},
   "outputs": [
    {
     "name": "stdout",
     "output_type": "stream",
     "text": [
      "0\n",
      "1\n",
      "2\n",
      "3\n",
      "4\n",
      "5\n",
      "6\n",
      "7\n",
      "8\n",
      "9\n"
     ]
    },
    {
     "data": {
      "text/plain": [
       "4"
      ]
     },
     "execution_count": 93,
     "metadata": {},
     "output_type": "execute_result"
    }
   ],
   "source": [
    "def is_prime(num):\n",
    "    if num < 2:\n",
    "        return False\n",
    "    for i in range(2, num):\n",
    "        if num % i == 0:\n",
    "            return False\n",
    "    return True\n",
    "\n",
    "def count_prime(n):\n",
    "    primes = []\n",
    "    \n",
    "    for num in range(n):\n",
    "        if is_prime(num):\n",
    "            primes.append(num)\n",
    "    return len(primes)\n",
    "\n",
    "count_prime(10)\n",
    "    "
   ]
  },
  {
   "cell_type": "code",
   "execution_count": 95,
   "metadata": {},
   "outputs": [
    {
     "data": {
      "text/plain": [
       "True"
      ]
     },
     "execution_count": 95,
     "metadata": {},
     "output_type": "execute_result"
    }
   ],
   "source": [
    "def is_possible(num, preq):\n",
    "    taken = []\n",
    "    course_map = {}\n",
    "\n",
    "    for pair in preq:\n",
    "        target = pair[0]\n",
    "        required = pair[1]\n",
    "\n",
    "        if required not in course_map:\n",
    "            course_map[required] = [target]\n",
    "        else:\n",
    "            lst = course_map[required]\n",
    "            lst.append(target)\n",
    "            course_map[required] = lst\n",
    "    \n",
    "    for required, target in course_map.items():\n",
    "        if len(taken) == 0:\n",
    "            taken.append(required)\n",
    "\n",
    "        if required in taken:\n",
    "            taken += target\n",
    "    \n",
    "    return len(taken) >= num\n",
    "        \n",
    "    ...\n",
    "\n",
    "num = 4\n",
    "prerequisites = [[1,0],[2,0],[3,1],[3,2]]\n",
    "is_possible(num, prerequisites)"
   ]
  },
  {
   "cell_type": "code",
   "execution_count": 2,
   "metadata": {},
   "outputs": [
    {
     "data": {
      "text/plain": [
       "3"
      ]
     },
     "execution_count": 2,
     "metadata": {},
     "output_type": "execute_result"
    }
   ],
   "source": [
    "def max_consecutive(nums):\n",
    "    cumsum = nums[0]\n",
    "    max_sum = nums[0]\n",
    "    for num in nums[1:]:\n",
    "        if cumsum == cumsum + num:\n",
    "            cumsum = 0\n",
    "        else:\n",
    "            cumsum = cumsum + num\n",
    "        if cumsum > max_sum:\n",
    "            max_sum = cumsum\n",
    "    return max_sum\n",
    "\n",
    "nums = [1,1,0,1,1,1]\n",
    "max_consecutive(nums)"
   ]
  },
  {
   "cell_type": "code",
   "execution_count": 4,
   "metadata": {},
   "outputs": [
    {
     "data": {
      "text/plain": [
       "4"
      ]
     },
     "execution_count": 4,
     "metadata": {},
     "output_type": "execute_result"
    }
   ],
   "source": [
    "def max_consecutive(nums, k):\n",
    "    cumsum = nums[0]\n",
    "    max_sum = nums[0]\n",
    "    for num in nums[1:]:\n",
    "        if num == 0:\n",
    "            if k > 0:\n",
    "                cumsum = cumsum + 1\n",
    "                k = k-1\n",
    "            else:\n",
    "                cumsum = 0\n",
    "        else:\n",
    "            cumsum = cumsum + 1\n",
    "        if cumsum > max_sum:\n",
    "            max_sum = cumsum\n",
    "    return max_sum\n",
    "\n",
    "nums = [1, 0, 1, 1, 0, 1]\n",
    "k = 1\n",
    "max_consecutive(nums, k)"
   ]
  },
  {
   "cell_type": "code",
   "execution_count": 8,
   "metadata": {},
   "outputs": [
    {
     "name": "stdout",
     "output_type": "stream",
     "text": [
      "{2: 2, 0: 2, 1: 2}\n"
     ]
    },
    {
     "data": {
      "text/plain": [
       "[0, 0, 1, 1, 2, 2]"
      ]
     },
     "execution_count": 8,
     "metadata": {},
     "output_type": "execute_result"
    }
   ],
   "source": [
    "def sort_colors(nums):\n",
    "    freq = {}\n",
    "    for num in nums:\n",
    "        if num not in freq:\n",
    "            freq[num] = 1\n",
    "        else:\n",
    "            freq[num] += 1\n",
    "    print(freq)\n",
    "\n",
    "    output = [0] * freq[0] + [1] * freq[1] + [2] * freq[2]\n",
    "\n",
    "    return output\n",
    "\n",
    "nums = [2,0,2,1,1,0]\n",
    "sort_colors(nums)"
   ]
  },
  {
   "cell_type": "code",
   "execution_count": 55,
   "metadata": {},
   "outputs": [
    {
     "name": "stdout",
     "output_type": "stream",
     "text": [
      "parent:  None child:  [1, [2, [4, None, None], [5, None, None]], [3, None, [6, None, None]]]\n",
      "max len:  1\n",
      "parent:  2 child:  [2, [4, None, None], [5, None, None]]\n",
      "max len:  1\n",
      "parent:  4 child:  [4, None, None]\n",
      "max len:  1\n",
      "parent:  5 child:  [5, None, None]\n",
      "max len:  1\n",
      "parent:  3 child:  [3, None, [6, None, None]]\n",
      "max len:  1\n",
      "parent:  6 child:  [6, None, None]\n",
      "max len:  1\n"
     ]
    },
    {
     "data": {
      "text/plain": [
       "0"
      ]
     },
     "execution_count": 55,
     "metadata": {},
     "output_type": "execute_result"
    }
   ],
   "source": []
  },
  {
   "cell_type": "code",
   "execution_count": 75,
   "metadata": {},
   "outputs": [
    {
     "ename": "AttributeError",
     "evalue": "'NoneType' object has no attribute 'value'",
     "output_type": "error",
     "traceback": [
      "\u001b[0;31m---------------------------------------------------------------------------\u001b[0m",
      "\u001b[0;31mAttributeError\u001b[0m                            Traceback (most recent call last)",
      "Cell \u001b[0;32mIn[75], line 30\u001b[0m\n\u001b[1;32m     27\u001b[0m     check_len(node\u001b[38;5;241m.\u001b[39mleft, node, length, max_len)\n\u001b[1;32m     28\u001b[0m     check_len(node\u001b[38;5;241m.\u001b[39mright, node, length, max_len)\n\u001b[0;32m---> 30\u001b[0m \u001b[43mlongest_consecutive\u001b[49m\u001b[43m(\u001b[49m\u001b[43mroot\u001b[49m\u001b[43m)\u001b[49m\n",
      "Cell \u001b[0;32mIn[75], line 16\u001b[0m, in \u001b[0;36mlongest_consecutive\u001b[0;34m(root)\u001b[0m\n\u001b[1;32m     14\u001b[0m \u001b[38;5;28;01mdef\u001b[39;00m \u001b[38;5;21mlongest_consecutive\u001b[39m(root):\n\u001b[1;32m     15\u001b[0m     max_len \u001b[38;5;241m=\u001b[39m \u001b[38;5;241m0\u001b[39m\n\u001b[0;32m---> 16\u001b[0m     \u001b[43mcheck_len\u001b[49m\u001b[43m(\u001b[49m\u001b[43mroot\u001b[49m\u001b[43m,\u001b[49m\u001b[43m \u001b[49m\u001b[38;5;28;43;01mNone\u001b[39;49;00m\u001b[43m,\u001b[49m\u001b[43m \u001b[49m\u001b[38;5;241;43m0\u001b[39;49m\u001b[43m,\u001b[49m\u001b[43m \u001b[49m\u001b[43mmax_len\u001b[49m\u001b[43m)\u001b[49m\n\u001b[1;32m     17\u001b[0m     \u001b[38;5;28;01mreturn\u001b[39;00m max_len\n",
      "Cell \u001b[0;32mIn[75], line 20\u001b[0m, in \u001b[0;36mcheck_len\u001b[0;34m(node, parent, length, max_len)\u001b[0m\n\u001b[1;32m     19\u001b[0m \u001b[38;5;28;01mdef\u001b[39;00m \u001b[38;5;21mcheck_len\u001b[39m(node, parent, length, max_len):\n\u001b[0;32m---> 20\u001b[0m     \u001b[38;5;28;01mif\u001b[39;00m node\u001b[38;5;241m.\u001b[39mvalue \u001b[38;5;241m+\u001b[39m \u001b[38;5;241m1\u001b[39m \u001b[38;5;241m==\u001b[39m \u001b[43mparent\u001b[49m\u001b[38;5;241;43m.\u001b[39;49m\u001b[43mvalue\u001b[49m:\n\u001b[1;32m     21\u001b[0m         length \u001b[38;5;241m+\u001b[39m\u001b[38;5;241m=\u001b[39m \u001b[38;5;241m1\u001b[39m\n\u001b[1;32m     22\u001b[0m     \u001b[38;5;28;01melse\u001b[39;00m:\n",
      "\u001b[0;31mAttributeError\u001b[0m: 'NoneType' object has no attribute 'value'"
     ]
    }
   ],
   "source": [
    "class TreeNode:\n",
    "\n",
    "    def __init__(self, value=0, left=None, right=None):\n",
    "        self.value = value\n",
    "        self.left = left\n",
    "        self.right = right\n",
    "\n",
    "root = TreeNode(1)\n",
    "root.right = TreeNode(3)\n",
    "root.right.left = TreeNode(2)\n",
    "root.right.right = TreeNode(4)\n",
    "root.right.right.right = TreeNode(5)\n",
    "\n",
    "def longest_consecutive(root):\n",
    "    max_len = 0\n",
    "    check_len(root, None, 0, max_len)\n",
    "    return max_len\n",
    "\n",
    "def check_len(node, parent, length, max_len):\n",
    "    if node.value + 1 == parent.value:\n",
    "        length += 1\n",
    "    else:\n",
    "        length = 1\n",
    "    \n",
    "    max_len = max(max_len, length)\n",
    "\n",
    "    check_len(node.left, node, length, max_len)\n",
    "    check_len(node.right, node, length, max_len)\n",
    "\n",
    "longest_consecutive(root)"
   ]
  },
  {
   "cell_type": "code",
   "execution_count": null,
   "metadata": {},
   "outputs": [],
   "source": []
  },
  {
   "cell_type": "code",
   "execution_count": null,
   "metadata": {},
   "outputs": [],
   "source": []
  },
  {
   "cell_type": "code",
   "execution_count": null,
   "metadata": {},
   "outputs": [],
   "source": []
  },
  {
   "cell_type": "code",
   "execution_count": null,
   "metadata": {},
   "outputs": [],
   "source": []
  }
 ],
 "metadata": {
  "kernelspec": {
   "display_name": "Python 3",
   "language": "python",
   "name": "python3"
  },
  "language_info": {
   "codemirror_mode": {
    "name": "ipython",
    "version": 3
   },
   "file_extension": ".py",
   "mimetype": "text/x-python",
   "name": "python",
   "nbconvert_exporter": "python",
   "pygments_lexer": "ipython3",
   "version": "3.11.5"
  }
 },
 "nbformat": 4,
 "nbformat_minor": 2
}
